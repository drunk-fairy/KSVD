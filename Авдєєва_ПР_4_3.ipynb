{
 "cells": [
  {
   "cell_type": "markdown",
   "id": "48e4173a-8e04-40b4-9871-377c6919560f",
   "metadata": {},
   "source": [
    "# Лабораторна робота 4. GAN. Фрактали\n",
    "## Завдання 3\n",
    "## Авдєєва Серафима ФІТ 4-44¶"
   ]
  },
  {
   "cell_type": "markdown",
   "id": "bf9655fb-b7ff-483b-9bb6-f6db642157a1",
   "metadata": {},
   "source": [
    "Намалювати килим Серпинського"
   ]
  },
  {
   "cell_type": "code",
   "execution_count": 1,
   "id": "b621adb8-8472-47b3-9efc-46e85ca6b768",
   "metadata": {},
   "outputs": [
    {
     "name": "stdin",
     "output_type": "stream",
     "text": [
      "Введіть рівень рекурсії (ціле число більше або рівне 0):  3\n"
     ]
    },
    {
     "data": {
      "image/png": "[encoded data removed]",
      "text/plain": [
       "<Figure size 640x480 with 1 Axes>"
      ]
     },
     "metadata": {},
     "output_type": "display_data"
    }
   ],
   "source": [
    "import matplotlib.pyplot as plt\n",
    "\n",
    "def draw_sierpinski_carpet(ax, x, y, size, level):\n",
    "    if level == 0:\n",
    "        ax.add_patch(plt.Rectangle((x, y), size, size, fill=True, color='black'))\n",
    "    else:\n",
    "        new_size = size / 3\n",
    "        for i in range(3):\n",
    "            for j in range(3):\n",
    "                if i != 1 or j != 1:\n",
    "                    draw_sierpinski_carpet(ax, x + i * new_size, y + j * new_size, new_size, level - 1)\n",
    "\n",
    "def main():\n",
    "    level = int(input(\"Введіть рівень рекурсії (ціле число більше або рівне 0): \"))\n",
    "    size = 300\n",
    "\n",
    "    fig, ax = plt.subplots()\n",
    "    draw_sierpinski_carpet(ax, 0, 0, size, level)\n",
    "    ax.set_xlim(0, size)\n",
    "    ax.set_ylim(0, size)\n",
    "    ax.set_aspect('equal')\n",
    "    ax.axis('off')\n",
    "    plt.title('Sierpinski Carpet')\n",
    "    plt.show()\n",
    "\n",
    "if __name__ == \"__main__\":\n",
    "    main()\n"
   ]
  },
  {
   "cell_type": "code",
   "execution_count": null,
   "id": "e353876f-4495-4ce0-8f46-1763f8d50bbf",
   "metadata": {},
   "outputs": [],
   "source": []
  }
 ],
 "metadata": {
  "kernelspec": {
   "display_name": "Python 3 (ipykernel)",
   "language": "python",
   "name": "python3"
  },
  "language_info": {
   "codemirror_mode": {
    "name": "ipython",
    "version": 3
   },
   "file_extension": ".py",
   "mimetype": "text/x-python",
   "name": "python",
   "nbconvert_exporter": "python",
   "pygments_lexer": "ipython3",
   "version": "3.11.5"
  }
 },
 "nbformat": 4,
 "nbformat_minor": 5
}
