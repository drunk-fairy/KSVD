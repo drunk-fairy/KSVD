{
  "nbformat": 4,
  "nbformat_minor": 0,
  "metadata": {
    "colab": {
      "provenance": []
    },
    "kernelspec": {
      "name": "python3",
      "display_name": "Python 3"
    },
    "language_info": {
      "name": "python"
    }
  },
  "cells": [
    {
      "cell_type": "markdown",
      "source": [
        "# Лабораторна робота 5. Аналіз даних даних і візуалізація Pyspark\n",
        "## Авдєєва Серафима ФІТ 4-4"
      ],
      "metadata": {
        "id": "a5i74zSBNA7C"
      }
    },
    {
      "cell_type": "code",
      "source": [
        "!pip install pyspark==3.0.1 py4j==0.10.9"
      ],
      "metadata": {
        "colab": {
          "base_uri": "https://localhost:8080/"
        },
        "id": "37S0BZgPCXDS",
        "outputId": "dcd52e10-a659-4e43-adc0-1c158b3876f3"
      },
      "execution_count": 1,
      "outputs": [
        {
          "output_type": "stream",
          "name": "stdout",
          "text": [
            "Requirement already satisfied: pyspark==3.0.1 in /usr/local/lib/python3.10/dist-packages (3.0.1)\n",
            "Requirement already satisfied: py4j==0.10.9 in /usr/local/lib/python3.10/dist-packages (0.10.9)\n"
          ]
        }
      ]
    },
    {
      "cell_type": "code",
      "source": [
        "from pyspark.sql import SparkSession\n",
        "from pyspark.ml.stat import Correlation\n",
        "from pyspark.ml.feature import VectorAssembler\n",
        "from pyspark.sql.functions import col, when\n",
        "from pyspark.sql.functions import mean\n",
        "import matplotlib.pyplot as plt"
      ],
      "metadata": {
        "id": "p8B7OVQQCW2S"
      },
      "execution_count": 25,
      "outputs": []
    },
    {
      "cell_type": "code",
      "source": [
        "# Ініціалізація Spark сесії\n",
        "spark = SparkSession.builder.appName(\"amazon_books\").getOrCreate()"
      ],
      "metadata": {
        "id": "MmcmolM1CXKv"
      },
      "execution_count": 3,
      "outputs": []
    },
    {
      "cell_type": "code",
      "source": [
        "# Читання CSV файлу\n",
        "df = spark.read.csv(\"/content/sample_data/bestsellers_with_categories.csv\", header=True, inferSchema=True)"
      ],
      "metadata": {
        "id": "u9GtKb6nCXRy"
      },
      "execution_count": 4,
      "outputs": []
    },
    {
      "cell_type": "code",
      "source": [
        "df.printSchema()"
      ],
      "metadata": {
        "colab": {
          "base_uri": "https://localhost:8080/"
        },
        "id": "Z5oSpgW8GKK8",
        "outputId": "b13e2758-e1cd-4423-dc98-b4219674e879"
      },
      "execution_count": 5,
      "outputs": [
        {
          "output_type": "stream",
          "name": "stdout",
          "text": [
            "root\n",
            " |-- Name: string (nullable = true)\n",
            " |-- Author: string (nullable = true)\n",
            " |-- User Rating: double (nullable = true)\n",
            " |-- Reviews: integer (nullable = true)\n",
            " |-- Price: integer (nullable = true)\n",
            " |-- Year: integer (nullable = true)\n",
            " |-- Genre: string (nullable = true)\n",
            "\n"
          ]
        }
      ]
    },
    {
      "cell_type": "code",
      "source": [
        "# Вивести назви стовпців і типи даних:\n",
        "print(df.dtypes)"
      ],
      "metadata": {
        "colab": {
          "base_uri": "https://localhost:8080/"
        },
        "id": "uHuFYtLYGYj7",
        "outputId": "1d1d51fd-d304-496a-cc1a-887e1f6a153c"
      },
      "execution_count": 6,
      "outputs": [
        {
          "output_type": "stream",
          "name": "stdout",
          "text": [
            "[('Name', 'string'), ('Author', 'string'), ('User Rating', 'double'), ('Reviews', 'int'), ('Price', 'int'), ('Year', 'int'), ('Genre', 'string')]\n"
          ]
        }
      ]
    },
    {
      "cell_type": "code",
      "source": [
        "# Виведіть перші п'ять рядків:\n",
        "df.head(5)"
      ],
      "metadata": {
        "colab": {
          "base_uri": "https://localhost:8080/"
        },
        "id": "zsEfEDUSGggj",
        "outputId": "a6b40f02-c11b-4bf6-861b-d7301310cff5"
      },
      "execution_count": 7,
      "outputs": [
        {
          "output_type": "execute_result",
          "data": {
            "text/plain": [
              "[Row(Name='10-Day Green Smoothie Cleanse', Author='JJ Smith', User Rating=4.7, Reviews=17350, Price=8, Year=2016, Genre='Non Fiction'),\n",
              " Row(Name='11/22/63: A Novel', Author='Stephen King', User Rating=4.6, Reviews=2052, Price=22, Year=2011, Genre='Fiction'),\n",
              " Row(Name='12 Rules for Life: An Antidote to Chaos', Author='Jordan B. Peterson', User Rating=4.7, Reviews=18979, Price=15, Year=2018, Genre='Non Fiction'),\n",
              " Row(Name='1984 (Signet Classics)', Author='George Orwell', User Rating=4.7, Reviews=21424, Price=6, Year=2017, Genre='Fiction'),\n",
              " Row(Name='5,000 Awesome Facts (About Everything!) (National Geographic Kids)', Author='National Geographic Kids', User Rating=4.8, Reviews=7665, Price=12, Year=2019, Genre='Non Fiction')]"
            ]
          },
          "metadata": {},
          "execution_count": 7
        }
      ]
    },
    {
      "cell_type": "code",
      "source": [
        "# Вивести перший рядок:\n",
        "df.first()"
      ],
      "metadata": {
        "colab": {
          "base_uri": "https://localhost:8080/"
        },
        "id": "iAJi_V4WGog4",
        "outputId": "5cda0095-7a8a-4744-bd36-217380e47c03"
      },
      "execution_count": 8,
      "outputs": [
        {
          "output_type": "execute_result",
          "data": {
            "text/plain": [
              "Row(Name='10-Day Green Smoothie Cleanse', Author='JJ Smith', User Rating=4.7, Reviews=17350, Price=8, Year=2016, Genre='Non Fiction')"
            ]
          },
          "metadata": {},
          "execution_count": 8
        }
      ]
    },
    {
      "cell_type": "code",
      "source": [
        "# Опис датасету:\n",
        "df.describe().show()"
      ],
      "metadata": {
        "colab": {
          "base_uri": "https://localhost:8080/"
        },
        "id": "Z0wEUmqIGyS6",
        "outputId": "bb83b079-871e-44ad-d340-f640b9116c1a"
      },
      "execution_count": 9,
      "outputs": [
        {
          "output_type": "stream",
          "name": "stdout",
          "text": [
            "+-------+--------------------+----------------+-------------------+------------------+------------------+------------------+-----------+\n",
            "|summary|                Name|          Author|        User Rating|           Reviews|             Price|              Year|      Genre|\n",
            "+-------+--------------------+----------------+-------------------+------------------+------------------+------------------+-----------+\n",
            "|  count|                 550|             550|                550|               550|               550|               550|        550|\n",
            "|   mean|                null|            null|  4.618363636363641|11953.281818181818|              13.1|            2014.0|       null|\n",
            "| stddev|                null|            null|0.22698036502519656|11731.132017431892|10.842261978422364|3.1651563841692782|       null|\n",
            "|    min|\"The Plant Parado...|Abraham Verghese|                3.3|                37|                 0|              2009|    Fiction|\n",
            "|    max|You Are a Badass:...|    Zhi Gang Sha|                4.9|             87841|               105|              2019|Non Fiction|\n",
            "+-------+--------------------+----------------+-------------------+------------------+------------------+------------------+-----------+\n",
            "\n"
          ]
        }
      ]
    },
    {
      "cell_type": "code",
      "source": [
        "# Виведіть список стовпців:\n",
        "print(df.columns)"
      ],
      "metadata": {
        "colab": {
          "base_uri": "https://localhost:8080/"
        },
        "id": "wMGpwEDDG5pa",
        "outputId": "2fb1f5a0-8db9-4369-e30f-cad1cfd4bbe3"
      },
      "execution_count": 10,
      "outputs": [
        {
          "output_type": "stream",
          "name": "stdout",
          "text": [
            "['Name', 'Author', 'User Rating', 'Reviews', 'Price', 'Year', 'Genre']\n"
          ]
        }
      ]
    },
    {
      "cell_type": "code",
      "source": [
        "# Загальна кількість рядків даних:\n",
        "print(df.count())"
      ],
      "metadata": {
        "colab": {
          "base_uri": "https://localhost:8080/"
        },
        "id": "_x-airj3G91Z",
        "outputId": "a01b3b49-7c48-4a52-bac1-6989aff60264"
      },
      "execution_count": 11,
      "outputs": [
        {
          "output_type": "stream",
          "name": "stdout",
          "text": [
            "550\n"
          ]
        }
      ]
    },
    {
      "cell_type": "code",
      "source": [
        "# Замінюємо пропущені значення на NaN та змінюємо тип даних на числовий\n",
        "df = df.select([when(col(c).isNull(), float('nan')).otherwise(col(c)).alias(c) for c in df.columns])"
      ],
      "metadata": {
        "id": "pXleVEXBHAnu"
      },
      "execution_count": 12,
      "outputs": []
    },
    {
      "cell_type": "code",
      "source": [
        "# Заміна пропущених значень на середні за стовпцем і зміна типу даних на float:\n",
        "for col in df.columns:\n",
        "    mean_value = df.select(mean(col)).collect()[0][0]\n",
        "    df = df.withColumn(col, when(df[col].isNull(), mean_value).otherwise(df[col]))\n",
        "\n",
        "# Змінюємо назви стовпців\n",
        "df = df.toDF(*['name', 'author', 'user_rating', 'reviews', 'price', 'year', 'genre'])\n",
        "\n",
        "# Знаходимо кількість книг у датасеті\n",
        "books_count = df.count()\n",
        "print(\"\\nКількість книг у датасеті:\", books_count)"
      ],
      "metadata": {
        "colab": {
          "base_uri": "https://localhost:8080/"
        },
        "id": "k8x5vZbdHI-B",
        "outputId": "2f694c8f-f247-4ce6-f850-db6abef23e99"
      },
      "execution_count": 13,
      "outputs": [
        {
          "output_type": "stream",
          "name": "stdout",
          "text": [
            "\n",
            "Кількість книг у датасеті: 550\n"
          ]
        }
      ]
    },
    {
      "cell_type": "code",
      "source": [
        "# Змініть назви всіх колонок\n",
        "df = df.toDF(*[col.lower().replace(' ', '_') for col in df.columns])"
      ],
      "metadata": {
        "id": "oL3ytXh9He9Z"
      },
      "execution_count": 14,
      "outputs": []
    },
    {
      "cell_type": "code",
      "source": [
        "# Знайдіть автора з найвищим рейтингом.\n",
        "max_rating_author = df.orderBy(df['user_rating'].desc()).select('author').first()[0]\n",
        "print(\"Автор із найвищим рейтингом:\", max_rating_author)"
      ],
      "metadata": {
        "colab": {
          "base_uri": "https://localhost:8080/"
        },
        "id": "4uBqOoniIT6_",
        "outputId": "5c55774e-778e-42f0-99c0-a4d213d6479d"
      },
      "execution_count": 22,
      "outputs": [
        {
          "output_type": "stream",
          "name": "stdout",
          "text": [
            "Автор із найвищим рейтингом: Bill Martin Jr.\n"
          ]
        }
      ]
    },
    {
      "cell_type": "code",
      "source": [
        "# Знайдіть автора з найнижчим рейтингом.\n",
        "min_rating_author = df.orderBy(df['user_rating']).select('author').first()[0]\n",
        "print(\"Автор із найнижчим рейтингом:\", min_rating_author)"
      ],
      "metadata": {
        "colab": {
          "base_uri": "https://localhost:8080/"
        },
        "id": "a-VTrn4UIsWU",
        "outputId": "ac4bd761-0131-491e-8655-5f5f800aa89d"
      },
      "execution_count": 23,
      "outputs": [
        {
          "output_type": "stream",
          "name": "stdout",
          "text": [
            "Автор із найнижчим рейтингом: J.K. Rowling\n"
          ]
        }
      ]
    },
    {
      "cell_type": "code",
      "source": [
        "# Знайдіть автора, що має найбільшу кількіть рецензій\n",
        "df.groupBy(\"author\").sum(\"reviews\").orderBy(\"sum(reviews)\", ascending=False).first()"
      ],
      "metadata": {
        "colab": {
          "base_uri": "https://localhost:8080/"
        },
        "id": "Bu2y-XRQJhES",
        "outputId": "54305bf4-55f2-468e-a2ae-a22a51904018"
      },
      "execution_count": 24,
      "outputs": [
        {
          "output_type": "execute_result",
          "data": {
            "text/plain": [
              "Row(author='Suzanne Collins', sum(reviews)=278329.0)"
            ]
          },
          "metadata": {},
          "execution_count": 24
        }
      ]
    },
    {
      "cell_type": "code",
      "source": [
        "# Побудуйте гістограму рейтингу 10 найкращих книг\n",
        "top_10_books = df.orderBy(df['user_rating'].desc()).limit(10).toPandas()\n",
        "plt.hist(top_10_books['user_rating'], bins=10, color='skyblue', edgecolor='black')\n",
        "plt.title('Гістограма рейтингу 10 найкращих книг')\n",
        "plt.xlabel('Рейтинг')\n",
        "plt.ylabel('Кількість книг')\n",
        "plt.show()"
      ],
      "metadata": {
        "colab": {
          "base_uri": "https://localhost:8080/",
          "height": 472
        },
        "id": "_JagdrnBJ0H-",
        "outputId": "c8e66b37-df02-4bed-db4f-cab49e74e555"
      },
      "execution_count": 19,
      "outputs": [
        {
          "output_type": "display_data",
          "data": {
            "text/plain": [
              "<Figure size 640x480 with 1 Axes>"
            ],
            "image/png": "[encoded data removed]"
          },
          "metadata": {}
        }
      ]
    },
    {
      "cell_type": "code",
      "source": [
        "# Побудуйте матрицю кореляції для стовпчиків 'user_rating', 'reviews', 'price'\n",
        "# Об'єднуємо потрібні стовпці в вектор\n",
        "assembler = VectorAssembler(inputCols=['user_rating', 'reviews', 'price'], outputCol='features')\n",
        "df_vector = assembler.transform(df).select('features')\n",
        "\n",
        "# Обчислюємо матрицю кореляції\n",
        "correlation_matrix = Correlation.corr(df_vector, 'features').head()\n",
        "correlation_array = correlation_matrix[0].toArray()\n",
        "\n",
        "print(\"\\nМатриця кореляції:\")\n",
        "print(correlation_array)"
      ],
      "metadata": {
        "colab": {
          "base_uri": "https://localhost:8080/"
        },
        "id": "DwOYwUlvLBW0",
        "outputId": "8299e845-fb8b-42a3-c5b2-c45f653ef141"
      },
      "execution_count": 26,
      "outputs": [
        {
          "output_type": "stream",
          "name": "stdout",
          "text": [
            "\n",
            "Матриця кореляції:\n",
            "[[ 1.         -0.00172901 -0.13308629]\n",
            " [-0.00172901  1.         -0.10918188]\n",
            " [-0.13308629 -0.10918188  1.        ]]\n"
          ]
        }
      ]
    },
    {
      "cell_type": "code",
      "source": [
        "spark.stop()"
      ],
      "metadata": {
        "id": "ggTaEIUrL-qf"
      },
      "execution_count": 27,
      "outputs": []
    },
    {
      "cell_type": "markdown",
      "source": [
        "# Висновок\n",
        "\n",
        "В цій роботі ми досліджували датасет \"Amazon Top 50 Bestselling Books 2009 – 2019\". Після завантаження даних та їх перегляду, ми виконали ряд завдань для аналізу та підготовки даних для подальшого використання.\n",
        "\n",
        "Спочатку ми прочитали CSV файл та вивели загальну структуру даних, включаючи схему, назви стовпців та їх типи. Після цього ми ознайомилися з першими рядками даних та провели описову статистику, використовуючи метод describe(). Ми також перевірили загальну кількість рядків та впевнилися, що в кожному рядку є достатньо даних.\n",
        "\n",
        "Одним з важливих кроків було заповнення пропущених значень. Ми замінили їх на середні значення за відповідними стовпцями та переконалися, що тип даних відповідає потрібному формату.\n",
        "\n",
        "Далі ми перейшли до аналізу даних, змінивши назви колонок та виконавши кілька запитів, щоб знайти автора з найвищим та найнижчим рейтингом, а також автора з найбільшою кількістю рецензій.\n",
        "\n",
        "Завершальними кроками було побудовано гістограму рейтингу для 10 книг з найвищим рейтингом та матрицю кореляції для стовпців 'user_rating', 'reviews' та 'price', щоб вивчити зв'язки між цими параметрами.\n",
        "\n",
        "У цілому, аналіз даних дозволив нам отримати більше інформації про набір даних та підготувати його для можливого подальшого використання в аналітичних або модельних дослідженнях."
      ],
      "metadata": {
        "id": "axD6OrBCMt0N"
      }
    }
  ]
}